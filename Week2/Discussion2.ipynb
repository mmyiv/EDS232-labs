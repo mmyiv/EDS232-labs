{
 "cells": [
  {
   "cell_type": "markdown",
   "id": "57d8ea89-da84-4b99-a5ea-e84fd79c254c",
   "metadata": {},
   "source": [
    "# Discussion 2\n",
    "\n",
    "1/16/25\n",
    "\n",
    "[link to website](https://maro406.github.io/eds-232-machine-learning/discussion/week2.html)"
   ]
  },
  {
   "cell_type": "code",
   "execution_count": 27,
   "id": "fb6c39b4-2ef6-4169-995c-fd59e65a7a66",
   "metadata": {
    "tags": []
   },
   "outputs": [],
   "source": [
    "## Data Loading\n",
    "\n",
    "# Import necessary libraries\n",
    "import pandas as pd\n",
    "import numpy as np\n",
    "import matplotlib.pyplot as plt\n",
    "from sklearn.model_selection import train_test_split\n",
    "from sklearn.linear_model import Lasso, Ridge\n",
    "from sklearn.metrics import mean_squared_error, r2_score\n",
    "from ipywidgets import interact, FloatLogSlider\n",
    "\n",
    "# Generate data\n",
    "np.random.seed(42)\n",
    "n_samples = 200\n",
    "X = np.zeros((n_samples, 6))\n",
    "X[:, 0] = np.random.normal(0, 1, n_samples)  # X1 - Important feature\n",
    "X[:, 1] = np.random.normal(0, 1, n_samples)  # X2 -  Important feature\n",
    "X[:, 2] = X[:, 0] + np.random.normal(0, 0.1, n_samples)  # Correlated with X1\n",
    "X[:, 3] = X[:, 1] + np.random.normal(0, 0.1, n_samples)  # Correlated with X2\n",
    "X[:, 4] = np.random.normal(0, 0.1, n_samples)  # Noise\n",
    "X[:, 5] = np.random.normal(0, 0.1, n_samples)  # Noise\n",
    "\n",
    "y = 3 * X[:, 0] + 2 * X[:, 1] + 0.5 * X[:, 2] + np.random.normal(0, 0.1, n_samples) "
   ]
  },
  {
   "cell_type": "code",
   "execution_count": 12,
   "id": "d54bcd0d-c13a-4143-91af-1e5afa4c7eb2",
   "metadata": {
    "tags": []
   },
   "outputs": [],
   "source": [
    "# Split data into training and testing sets\n",
    "X_train, X_test, y_train, y_test = train_test_split(X, y, test_size= 0.3, random_state=42)"
   ]
  },
  {
   "cell_type": "code",
   "execution_count": 16,
   "id": "a18470f8-8561-4f1b-b6fb-df1dec37aa1a",
   "metadata": {
    "tags": []
   },
   "outputs": [
    {
     "name": "stdout",
     "output_type": "stream",
     "text": [
      "ridge regression RMSE: 0.14410020171824975\n",
      "ridge regression r^2 0.9984722762470865\n"
     ]
    }
   ],
   "source": [
    "# Create and fit ridge regression model\n",
    "ridge_model = Ridge()\n",
    "ridge_model.fit(X_train, y_train)\n",
    "\n",
    "ridge_predictions = ridge_model.predict(X_test)\n",
    "\n",
    "# Calcualate MSE and r-squared for Ridge regression\n",
    "ridge_rmse = np.sqrt(mean_squared_error(y_test, ridge_predictions))\n",
    "ridge_r2 = r2_score(y_test, ridge_predictions)\n",
    "\n",
    "print('ridge regression RMSE:', ridge_rmse)\n",
    "print(\"ridge regression r^2\", ridge_r2)"
   ]
  },
  {
   "cell_type": "code",
   "execution_count": 21,
   "id": "41134e8b-80a2-4d63-a710-c5b9abd3b071",
   "metadata": {
    "tags": []
   },
   "outputs": [
    {
     "name": "stdout",
     "output_type": "stream",
     "text": [
      "1.2984978990079017\n",
      "0.8759496036905758\n"
     ]
    }
   ],
   "source": [
    "# Create and fit a lasso regression model\n",
    "lasso_model = Lasso()\n",
    "lasso_model.fit(X_train, y_train)\n",
    "lasso_predictions = lasso_model.predict(X_test)\n",
    "\n",
    "# Calculate RMSR and r-squared\n",
    "lasso_rmse = np.sqrt(mean_squared_error(y_test, lasso_predictions))\n",
    "lasso_r2 = r2_score(y_test, lasso_predictions)\n",
    "\n",
    "print(lasso_rmse)\n",
    "print(lasso_r2)"
   ]
  },
  {
   "cell_type": "code",
   "execution_count": 22,
   "id": "c110e08e-99d8-44cf-9496-02c80f5a61ab",
   "metadata": {
    "tags": []
   },
   "outputs": [],
   "source": [
    "# Create function for creating a plot"
   ]
  },
  {
   "cell_type": "code",
   "execution_count": 36,
   "id": "065d1e0f-a5a0-407e-8826-d36299ca8077",
   "metadata": {
    "tags": []
   },
   "outputs": [
    {
     "data": {
      "image/png": "[encoded data removed]",
      "text/plain": [
       "<Figure size 1500x500 with 3 Axes>"
      ]
     },
     "metadata": {},
     "output_type": "display_data"
    }
   ],
   "source": [
    "# Make a list of alphas\n",
    "alphas = [0.1, 1.0, 10]\n",
    "\n",
    "# Empty list\n",
    "data = []\n",
    "\n",
    "# Make a loop\n",
    "for alpha in alphas:\n",
    "    ridge = Ridge(alpha=alpha).fit(X, y)\n",
    "    lasso = Lasso(alpha=alpha).fit(X,y) \n",
    "    \n",
    "    data.append(pd.DataFrame({\n",
    "        'Ridge': ridge.coef_,\n",
    "        'Lasso': lasso.coef_\n",
    "    }, index = ['X1', 'X2', 'X1_corr', 'X2_corr', 'Noise1', \"Noise2\"])\n",
    "               )\n",
    "# Make a plot\n",
    "fig, axes = plt.subplots(1, 3, figsize = (15,5), sharey= True)\n",
    "\n",
    "# For loop\n",
    "for i,df in enumerate(data):\n",
    "    df.plot.bar(ax= axes[i], width = 0.8)\n",
    "    axes[i].set_title(f'Alpha = {alphas[i]}')\n",
    "    axes[i].set_xticklabels(df.index, rotation = 45)\n",
    "plt.show()\n"
   ]
  },
  {
   "cell_type": "code",
   "execution_count": 61,
   "id": "e1157666-e14a-4d64-b70e-27820a590f11",
   "metadata": {
    "tags": []
   },
   "outputs": [
    {
     "data": {
      "application/vnd.jupyter.widget-view+json": {
       "model_id": "e27eb2db123741498a8b47f5294c47e3",
       "version_major": 2,
       "version_minor": 0
      },
      "text/plain": [
       "interactive(children=(FloatLogSlider(value=1.0, description='Alpha', max=3.0, min=-3.0), Dropdown(description=…"
      ]
     },
     "metadata": {},
     "output_type": "display_data"
    },
    {
     "data": {
      "text/plain": [
       "<function __main__.update_alphas(alpha, model_type)>"
      ]
     },
     "execution_count": 61,
     "metadata": {},
     "output_type": "execute_result"
    }
   ],
   "source": [
    "def update_alphas(alpha, model_type):\n",
    "    if model_type == 'Lasso':\n",
    "        model = Lasso(alpha = alpha)\n",
    "    else:\n",
    "        model = Ridge(alpha = alpha)\n",
    "    model.fit(X_train, y_train)\n",
    "    y_pred = model.predict(X_test)\n",
    "    \n",
    "    # calculate rmse and rsquared\n",
    "    rmse = np.sqrt(mean_squared_error(y_test, y_pred))\n",
    "    r2 = r2_score(y_test, y_pred)\n",
    "    \n",
    "    # Plot\n",
    "    plt.figure(figsize=(10, 5)) \n",
    "    plt.scatter(y_test, y_pred, color = 'lightblue', alpha = 0.5, label = f'Predictions (alpha = {alpha})')\n",
    "    plt.plot([y_test.min(), y_test.max()], [y_test.min(), y_test.max()], 'k--', linewidth = 2)\n",
    "    plt.title(f'{model_type} Regression: Predictions vs. Actual (alpha = {alpha})')\n",
    "    plt.xlabel('Actual Values')\n",
    "    plt.ylabel('Predicted values')\n",
    "    plt.legend()\n",
    "    plt.figtext(0.5, -0.05, f'RMSE: {rmse}, R2: {r2}', ha = 'center', fontsize =12, bbox = {'facecolor' : \"orange\"})\n",
    "    plt.show()\n",
    "    \n",
    "# Create interactive widgets\n",
    "alpha_slider = FloatLogSlider(value = 1.0, base = 10, min = -3, max = 3, description = 'Alpha')\n",
    "model_selector = {'Lasso Model': 'Lasso',\n",
    "                  'Ridge Model': 'Ridge'}\n",
    "interact(update_alphas, alpha = alpha_slider, model_type = model_selector)\n",
    "    "
   ]
  },
  {
   "cell_type": "code",
   "execution_count": null,
   "id": "03eafeb4-44ef-4561-b079-09a203821dc5",
   "metadata": {},
   "outputs": [],
   "source": []
  }
 ],
 "metadata": {
  "kernelspec": {
   "display_name": "Anaconda 3 (EDS232)",
   "language": "python",
   "name": "ml-env"
  },
  "language_info": {
   "codemirror_mode": {
    "name": "ipython",
    "version": 3
   },
   "file_extension": ".py",
   "mimetype": "text/x-python",
   "name": "python",
   "nbconvert_exporter": "python",
   "pygments_lexer": "ipython3",
   "version": "3.10.16"
  }
 },
 "nbformat": 4,
 "nbformat_minor": 5
}
