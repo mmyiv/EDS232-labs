{
 "cells": [
  {
   "cell_type": "code",
   "execution_count": 1,
   "id": "6d41e7de-5f0c-4baf-a37f-ec5dbe4f7428",
   "metadata": {
    "tags": []
   },
   "outputs": [],
   "source": [
    "# Imports\n",
    "import pandas as pd\n",
    "import numpy as np\n",
    "from sklearn.model_selection import train_test_split\n",
    "from sklearn.preprocessing import StandardScaler\n",
    "from sklearn.linear_model import LogisticRegression\n",
    "from sklearn.dummy import DummyClassifier\n",
    "from sklearn.metrics import accuracy_score, confusion_matrix, classification_report, roc_curve, roc_auc_score, ConfusionMatrixDisplay\n",
    "import matplotlib.pyplot as plt\n",
    "import seaborn as sns\n"
   ]
  },
  {
   "cell_type": "markdown",
   "id": "e492775e-957c-40b4-b64f-5de93dbea5e1",
   "metadata": {},
   "source": [
    "# Lab 4: Fire and Tree Mortality\n",
    "\n",
    "# About the data\n",
    "Wildfires are increasingly frequent and severe due to climate change. Predicting tree mortality following a wildfire is critical for forest management, ecosystem recovery, and carbon sequestration planning. In this lab, we will build a logistic regression model to predict the probability of tree mortality one year after a wildfire\n",
    "\n",
    "The database we'll be working with today includes observations of individual trees involved in prescribed fires and wildfires occurring over 35 years, from 1981 to 2016. It is drawn from a fire and tree mortality database from the US Forest Service (see data description for the full database here: [link](https://www.nature.com/articles/s41597-020-0522-7#Sec10)).\n",
    "\n",
    "The target variable we'll use is `yr1status`, which is a binary variable (0=alive, 1=dead).  This tells us if a tree has died one year after a fire event.\n",
    "\n",
    "The features we'll use are `YrFireName`, `Times_burned`, `Species`, `Genus_species`,\n",
    "    `DBH_cm`, `HT_m`, `CR_pre`, and `CR_post`."
   ]
  },
  {
   "cell_type": "markdown",
   "id": "8f2c5ce6-eb43-4544-8b88-c306a7618c85",
   "metadata": {},
   "source": [
    "## Step 1: Check the metadata\n",
    "\n",
    "Look at the metadata and provide a description on what each variable represents in the Description column below.\n"
   ]
  },
  {
   "cell_type": "markdown",
   "id": "c7b239ac-123f-4458-bf2c-fc46dcf5cc0a",
   "metadata": {},
   "source": [
    "| Feature                     | Description                                                                                   |\n",
    "|-----------------------------|-----------------------------------------------------------------------------------------------| \n",
    "| yr1status                   |\n",
    "| YrFireName                  |                                     \n",
    "| Times_burned                |                                              \n",
    "| Species                     |                                                     \n",
    "| Genus_species               |                                       \n",
    "| DBH_cm                      | \n",
    "| HT_m                        |\n",
    "| CR_pre                      | \n",
    "| CR_post                     |"
   ]
  },
  {
   "cell_type": "markdown",
   "id": "55d355a0",
   "metadata": {},
   "source": [
    "## Step 2: Fetch  data\n",
    "Read in the data set and filter to retain only the variables of interest.  Then check for incomplete observations and remove any rows containing NaNs.  How many observations does that leave us with? **Print your answer.**"
   ]
  },
  {
   "cell_type": "code",
   "execution_count": 2,
   "id": "ac926dc2",
   "metadata": {
    "tags": []
   },
   "outputs": [
    {
     "name": "stderr",
     "output_type": "stream",
     "text": [
      "/tmp/ipykernel_1395082/1765753220.py:2: DtypeWarning: Columns (4,5,6,7,10,62,63) have mixed types. Specify dtype option on import or set low_memory=False.\n",
      "  trees_dat = pd.read_csv('/courses/EDS232/Data/FTM_trees.csv')\n"
     ]
    }
   ],
   "source": [
    "# Load the dataset\n",
    "trees_dat = pd.read_csv('/courses/EDS232/Data/FTM_trees.csv')"
   ]
  },
  {
   "cell_type": "code",
   "execution_count": 3,
   "id": "d0280044-73f9-43be-89c8-134b449bc5f4",
   "metadata": {
    "tags": []
   },
   "outputs": [
    {
     "name": "stdout",
     "output_type": "stream",
     "text": [
      "The number of observations after dropping NAs is 36509\n"
     ]
    }
   ],
   "source": [
    "# Filter to columns of interest\n",
    "trees_dat = trees_dat[[\"yr1status\", \"YrFireName\", \"Times_burned\", \"Species\", \"Genus_species\", \n",
    "                      \"DBH_cm\", \"HT_m\", \"CR_pre\", \"CR_post\"]]\n",
    "\n",
    "# Change column names to lower snake case\n",
    "trees_dat.columns = trees_dat.columns.str.lower()\n",
    "\n",
    "# Check for incomplete observations (remove NAs)\n",
    "trees_dat = trees_dat.dropna()\n",
    "\n",
    "# Count number of observations\n",
    "print(\"The number of observations after dropping NAs is\", trees_dat.shape[0])"
   ]
  },
  {
   "cell_type": "markdown",
   "id": "aaf806bf",
   "metadata": {},
   "source": [
    "## Step 3: Data Preprocessing\n",
    "1. We recode categorical predictors to zero-based integer form because most machine learning models, including logistic regression, cannot work directly with categorical data represented as strings or labels. Instead, models require numerical input. Let's do that here. \n"
   ]
  },
  {
   "cell_type": "code",
   "execution_count": 4,
   "id": "1e41fb79-ad31-4162-ac76-887461bb4160",
   "metadata": {
    "tags": []
   },
   "outputs": [
    {
     "data": {
      "text/html": [
       "<div>\n",
       "<style scoped>\n",
       "    .dataframe tbody tr th:only-of-type {\n",
       "        vertical-align: middle;\n",
       "    }\n",
       "\n",
       "    .dataframe tbody tr th {\n",
       "        vertical-align: top;\n",
       "    }\n",
       "\n",
       "    .dataframe thead th {\n",
       "        text-align: right;\n",
       "    }\n",
       "</style>\n",
       "<table border=\"1\" class=\"dataframe\">\n",
       "  <thead>\n",
       "    <tr style=\"text-align: right;\">\n",
       "      <th></th>\n",
       "      <th>yr1status</th>\n",
       "      <th>yrfirename</th>\n",
       "      <th>times_burned</th>\n",
       "      <th>species</th>\n",
       "      <th>genus_species</th>\n",
       "      <th>dbh_cm</th>\n",
       "      <th>ht_m</th>\n",
       "      <th>cr_pre</th>\n",
       "      <th>cr_post</th>\n",
       "    </tr>\n",
       "  </thead>\n",
       "  <tbody>\n",
       "    <tr>\n",
       "      <th>500</th>\n",
       "      <td>0.0</td>\n",
       "      <td>37</td>\n",
       "      <td>1</td>\n",
       "      <td>0</td>\n",
       "      <td>0</td>\n",
       "      <td>71.374</td>\n",
       "      <td>41.76</td>\n",
       "      <td>0.84</td>\n",
       "      <td>0.74</td>\n",
       "    </tr>\n",
       "    <tr>\n",
       "      <th>501</th>\n",
       "      <td>0.0</td>\n",
       "      <td>37</td>\n",
       "      <td>1</td>\n",
       "      <td>0</td>\n",
       "      <td>0</td>\n",
       "      <td>23.622</td>\n",
       "      <td>12.80</td>\n",
       "      <td>0.60</td>\n",
       "      <td>0.57</td>\n",
       "    </tr>\n",
       "    <tr>\n",
       "      <th>502</th>\n",
       "      <td>0.0</td>\n",
       "      <td>37</td>\n",
       "      <td>1</td>\n",
       "      <td>0</td>\n",
       "      <td>0</td>\n",
       "      <td>46.228</td>\n",
       "      <td>34.75</td>\n",
       "      <td>0.75</td>\n",
       "      <td>0.59</td>\n",
       "    </tr>\n",
       "    <tr>\n",
       "      <th>503</th>\n",
       "      <td>0.0</td>\n",
       "      <td>37</td>\n",
       "      <td>1</td>\n",
       "      <td>0</td>\n",
       "      <td>0</td>\n",
       "      <td>21.082</td>\n",
       "      <td>23.16</td>\n",
       "      <td>0.38</td>\n",
       "      <td>0.38</td>\n",
       "    </tr>\n",
       "    <tr>\n",
       "      <th>504</th>\n",
       "      <td>0.0</td>\n",
       "      <td>37</td>\n",
       "      <td>1</td>\n",
       "      <td>0</td>\n",
       "      <td>0</td>\n",
       "      <td>24.384</td>\n",
       "      <td>26.21</td>\n",
       "      <td>0.42</td>\n",
       "      <td>0.42</td>\n",
       "    </tr>\n",
       "    <tr>\n",
       "      <th>...</th>\n",
       "      <td>...</td>\n",
       "      <td>...</td>\n",
       "      <td>...</td>\n",
       "      <td>...</td>\n",
       "      <td>...</td>\n",
       "      <td>...</td>\n",
       "      <td>...</td>\n",
       "      <td>...</td>\n",
       "      <td>...</td>\n",
       "    </tr>\n",
       "    <tr>\n",
       "      <th>169332</th>\n",
       "      <td>0.0</td>\n",
       "      <td>33</td>\n",
       "      <td>1</td>\n",
       "      <td>31</td>\n",
       "      <td>31</td>\n",
       "      <td>32.512</td>\n",
       "      <td>15.54</td>\n",
       "      <td>0.90</td>\n",
       "      <td>0.90</td>\n",
       "    </tr>\n",
       "    <tr>\n",
       "      <th>169333</th>\n",
       "      <td>0.0</td>\n",
       "      <td>33</td>\n",
       "      <td>1</td>\n",
       "      <td>31</td>\n",
       "      <td>31</td>\n",
       "      <td>24.892</td>\n",
       "      <td>14.63</td>\n",
       "      <td>0.81</td>\n",
       "      <td>0.81</td>\n",
       "    </tr>\n",
       "    <tr>\n",
       "      <th>169334</th>\n",
       "      <td>0.0</td>\n",
       "      <td>33</td>\n",
       "      <td>1</td>\n",
       "      <td>31</td>\n",
       "      <td>31</td>\n",
       "      <td>32.258</td>\n",
       "      <td>16.46</td>\n",
       "      <td>0.85</td>\n",
       "      <td>0.63</td>\n",
       "    </tr>\n",
       "    <tr>\n",
       "      <th>169335</th>\n",
       "      <td>0.0</td>\n",
       "      <td>33</td>\n",
       "      <td>1</td>\n",
       "      <td>31</td>\n",
       "      <td>31</td>\n",
       "      <td>31.750</td>\n",
       "      <td>18.59</td>\n",
       "      <td>0.87</td>\n",
       "      <td>0.80</td>\n",
       "    </tr>\n",
       "    <tr>\n",
       "      <th>169336</th>\n",
       "      <td>0.0</td>\n",
       "      <td>33</td>\n",
       "      <td>1</td>\n",
       "      <td>31</td>\n",
       "      <td>31</td>\n",
       "      <td>28.956</td>\n",
       "      <td>17.68</td>\n",
       "      <td>0.79</td>\n",
       "      <td>0.52</td>\n",
       "    </tr>\n",
       "  </tbody>\n",
       "</table>\n",
       "<p>36509 rows × 9 columns</p>\n",
       "</div>"
      ],
      "text/plain": [
       "        yr1status  yrfirename  times_burned  species  genus_species  dbh_cm  \\\n",
       "500           0.0          37             1        0              0  71.374   \n",
       "501           0.0          37             1        0              0  23.622   \n",
       "502           0.0          37             1        0              0  46.228   \n",
       "503           0.0          37             1        0              0  21.082   \n",
       "504           0.0          37             1        0              0  24.384   \n",
       "...           ...         ...           ...      ...            ...     ...   \n",
       "169332        0.0          33             1       31             31  32.512   \n",
       "169333        0.0          33             1       31             31  24.892   \n",
       "169334        0.0          33             1       31             31  32.258   \n",
       "169335        0.0          33             1       31             31  31.750   \n",
       "169336        0.0          33             1       31             31  28.956   \n",
       "\n",
       "         ht_m  cr_pre  cr_post  \n",
       "500     41.76    0.84     0.74  \n",
       "501     12.80    0.60     0.57  \n",
       "502     34.75    0.75     0.59  \n",
       "503     23.16    0.38     0.38  \n",
       "504     26.21    0.42     0.42  \n",
       "...       ...     ...      ...  \n",
       "169332  15.54    0.90     0.90  \n",
       "169333  14.63    0.81     0.81  \n",
       "169334  16.46    0.85     0.63  \n",
       "169335  18.59    0.87     0.80  \n",
       "169336  17.68    0.79     0.52  \n",
       "\n",
       "[36509 rows x 9 columns]"
      ]
     },
     "execution_count": 4,
     "metadata": {},
     "output_type": "execute_result"
    }
   ],
   "source": [
    "# Create a for loop factorizing categorical columns\n",
    "\n",
    "for col in ['yrfirename', 'species', 'genus_species']:\n",
    "    trees_dat[col],_ = pd.factorize(trees_dat[col], sort=True)\n",
    "    \n",
    "# View changes\n",
    "trees_dat"
   ]
  },
  {
   "cell_type": "markdown",
   "id": "fdcc4673-26dc-4c09-8c9a-0f2f97abe16f",
   "metadata": {},
   "source": [
    "2. Then we'll split into training and test data and scale for coefficient interpretability.  Recall that we use the training features to calculate our scaling parameters (mean and standard deviation) and apply the scaling to those training features (`scaler.fit_transform`) and then apply the scaling to the features in the test data as well (`scaler.transform`).\n"
   ]
  },
  {
   "cell_type": "code",
   "execution_count": 14,
   "id": "54b2f9d2-f414-4bf2-b0a3-51d55f3d997a",
   "metadata": {
    "tags": []
   },
   "outputs": [],
   "source": [
    "# Assign predictor and outcome variables \n",
    "X = trees_dat.loc[:, trees_dat.columns != 'yr1status']\n",
    "Y = trees_dat[['yr1status']]\n",
    "\n",
    "# Split data\n",
    "X_train, X_test, Y_train, Y_test = train_test_split(X,Y, test_size=0.3, random_state=42)\n",
    "\n",
    "# Scale the train and test features\n",
    "scaler = StandardScaler()\n",
    "X_train_scaled = scaler.fit_transform(X_train)\n",
    "X_test_scaled = scaler.transform(X_test)"
   ]
  },
  {
   "cell_type": "markdown",
   "id": "3055eca1-9c22-4266-95a0-710b43be5a8e",
   "metadata": {},
   "source": [
    "3. How many training/test observations do we have? Print your answer in the cell below. "
   ]
  },
  {
   "cell_type": "code",
   "execution_count": 6,
   "id": "fdb4803d-8680-4ede-b790-3579f4a485e7",
   "metadata": {
    "tags": []
   },
   "outputs": [
    {
     "name": "stdout",
     "output_type": "stream",
     "text": [
      "Training set observations: 25556\n",
      "Testing set observations: 10953\n"
     ]
    }
   ],
   "source": [
    "# Verify the training and testing set size\n",
    "print(\"Training set observations:\",len(X_train_scaled) )\n",
    "print(\"Testing set observations:\",len(X_test_scaled))"
   ]
  },
  {
   "cell_type": "markdown",
   "id": "4ca8857c",
   "metadata": {},
   "source": [
    "## Step 4: Train a Logistical Model\n",
    "Create a classifier using `LogisticRegression()` and fit it on the training data.  Then assess the model's accuracy on the training set by making predictions on the training data.  Calculate and **print** the accuracy of your model on the training set. "
   ]
  },
  {
   "cell_type": "code",
   "execution_count": 17,
   "id": "578b2ca5",
   "metadata": {
    "tags": []
   },
   "outputs": [
    {
     "name": "stdout",
     "output_type": "stream",
     "text": [
      "Training Accuracy: 0.945\n"
     ]
    }
   ],
   "source": [
    "# Initialize model\n",
    "model = LogisticRegression(random_state=42)\n",
    "\n",
    "# Fit the model to the training data\n",
    "model.fit(X_train_scaled, Y_train.values.ravel())\n",
    "\n",
    "# Predict on the training data\n",
    "y_train_pred = model.predict(X_train_scaled)\n",
    "\n",
    "# Calculate accuracy\n",
    "accuracy = accuracy_score(Y_train.values.ravel(), y_train_pred) # .ravel() used to flatten to prevent warning message\n",
    "\n",
    "# Print accuracy\n",
    "print(f\"Training Accuracy: {accuracy:.3f}\") "
   ]
  },
  {
   "cell_type": "markdown",
   "id": "34d86616",
   "metadata": {},
   "source": [
    "## Step 5: Test Set Predictions and Model Evaluation\n",
    "Now let's take our trained logistic classifier and make predictions on the test set. Calculate the accuracy and confusion matrix. Then use `sns.heatmap` for improved confusion matrix visualization."
   ]
  },
  {
   "cell_type": "code",
   "execution_count": 26,
   "id": "e1519fc3-db6c-48e8-9039-6e0c193b060b",
   "metadata": {
    "tags": []
   },
   "outputs": [
    {
     "name": "stdout",
     "output_type": "stream",
     "text": [
      "Accuracy: 0.940 \n"
     ]
    }
   ],
   "source": [
    "# Predict on the test set\n",
    "y_test_pred = model.predict(X_test_scaled)\n",
    "\n",
    "# Calculate accuracy\n",
    "accuracy_logistic = accuracy_score(Y_test.values.ravel(), y_test_pred)\n",
    "\n",
    "# Print accuracy\n",
    "print(f\"Accuracy: {accuracy_logistic:.3f} \")"
   ]
  },
  {
   "cell_type": "code",
   "execution_count": 31,
   "id": "be4e4d6c",
   "metadata": {
    "tags": []
   },
   "outputs": [
    {
     "name": "stdout",
     "output_type": "stream",
     "text": [
      "Confusion Matrix:\n"
     ]
    },
    {
     "data": {
      "image/png": "[encoded data removed]",
      "text/plain": [
       "<Figure size 800x600 with 2 Axes>"
      ]
     },
     "metadata": {},
     "output_type": "display_data"
    },
    {
     "name": "stdout",
     "output_type": "stream",
     "text": [
      "True positives (correctly predicted survival): 9838\n",
      "True negatives (correctly predicted death): 460\n",
      "False positives (incorrectly predicted survival): 460\n",
      "False negatives (incorrectly predicted death): 195\n"
     ]
    }
   ],
   "source": [
    "# Calculate confusion matrix\n",
    "cm = confusion_matrix(Y_test.values.ravel(), y_test_pred)\n",
    "print(f\"Confusion Matrix:\")\n",
    "\n",
    "# Plot confusion matrix\n",
    "\n",
    "# Initialize figure\n",
    "plt.figure(figsize=(8,6))\n",
    "\n",
    "# Use seaborn to plot heatmap\n",
    "sns.heatmap(cm, annot= True, fmt = 'd', cmap = 'Pastel1',\n",
    "               xticklabels = ['Survived', 'Died'],\n",
    "               yticklabels = ['Survived', 'Died'])\n",
    "plt.title('Confusion Matrix for Tree Survival \\n1 Year after Wildfire')\n",
    "plt.ylabel('True Status')\n",
    "plt.xlabel('Predicted Status')\n",
    "plt.show()\n",
    "\n",
    "# Calculate metrics\n",
    "TP = cm[0,0]\n",
    "TN = cm[1,1]\n",
    "FP = cm[1,0]\n",
    "FN = cm[0,1]\n",
    "\n",
    "print(f\"True positives (correctly predicted survival): {TP}\")\n",
    "print(f\"True negatives (correctly predicted death): {TN}\")\n",
    "print(f\"False positives (incorrectly predicted survival): {FP}\")\n",
    "print(f\"False negatives (incorrectly predicted death): {FN}\")"
   ]
  },
  {
   "cell_type": "markdown",
   "id": "9b5cdbbb",
   "metadata": {},
   "source": [
    "## Step 6: Logistic Classifier Evaluation\n",
    "How did your model perform on the unseen data? \n",
    "Does your model perform differently on observations of trees that survived vs trees that died?\n",
    "Is there a class imbalance in this data set?"
   ]
  },
  {
   "cell_type": "markdown",
   "id": "7c651ef7",
   "metadata": {},
   "source": [
    "The model seemed to do well on the unseen data, as the majority of values are for true postives with an accuracy of 0.94. However, the model does perform differently on observations of trees surviving and dying. The model was correct on predicting surviving trees ~95.5% of the time (Sensitivty: TP/TP+FN, 9838/9838+460), whereas for predicting trees that died, the model was only correct ~70.2% (Specificity: TN/TN + FP, 460/460 + 195), meaning that the model was more accurate at identifying surviving trees. Yes, there is a class imbalance in this data set. In looking at the number of observations of surviving vs. dead trees, the data contains 94% surviving trees (9838+460/10953) and only 6% dead. This means the model was trained mostly on surviving trees."
   ]
  },
  {
   "cell_type": "markdown",
   "id": "c60c7e36",
   "metadata": {},
   "source": [
    "## Step 7: What about a Dummy?\n",
    "What do you think would happen if we built a model that always predicts the majority class (alive trees)? How would its accuracy compare to your logistic regression model?"
   ]
  },
  {
   "cell_type": "markdown",
   "id": "e66ba576",
   "metadata": {},
   "source": [
    "If we built a model that always predicts the majority class of alive trees, the model would have similar accuracy because of how the data has a class imbalance and has most observations on surviving trees. However, the model would not be able to predict dead trees unlike the logistic regression model (70% > 0%). Therefore, the accuracy of the model would be slightly less than the logistric regression model."
   ]
  },
  {
   "cell_type": "markdown",
   "id": "6854360d",
   "metadata": {},
   "source": [
    "Let's go ahead and do it: use `DummyClassifier()` with the appropriate value for the 'strategy' parameter to train a majority classifier.  Then calculate this model's accuracy on the training data."
   ]
  },
  {
   "cell_type": "code",
   "execution_count": 36,
   "id": "fe5b4015",
   "metadata": {
    "tags": []
   },
   "outputs": [
    {
     "name": "stdout",
     "output_type": "stream",
     "text": [
      "Dummy Accuracy: 0.917\n",
      "\n",
      "Dummy Confusion Matrix:\n"
     ]
    },
    {
     "data": {
      "image/png": "[encoded data removed]",
      "text/plain": [
       "<Figure size 640x480 with 2 Axes>"
      ]
     },
     "metadata": {},
     "output_type": "display_data"
    },
    {
     "name": "stdout",
     "output_type": "stream",
     "text": [
      "True positives (correctly predicted survival): 23441\n",
      "True negatives (correctly predicted death): 0\n",
      "False positives (incorrectly predicted survival): 2115\n",
      "False negatives (incorrectly predicted death): 0\n"
     ]
    }
   ],
   "source": [
    "# Make dummy model \n",
    "dummy_model = DummyClassifier(strategy='most_frequent', random_state=42)\n",
    "\n",
    "# Fit the DummyClassifier on the training data\n",
    "dummy_model.fit(X_train_scaled, Y_train.values.ravel())\n",
    "\n",
    "# Predict on the training set\n",
    "y_train_pred_dummy = dummy_model.predict(X_train_scaled)\n",
    "\n",
    "# Generate the confusion matrix\n",
    "cm_dummy = confusion_matrix(Y_train.values.ravel(), y_train_pred_dummy)\n",
    "\n",
    "# Print accuracy and confusion matrix results\n",
    "print(f\"Dummy Accuracy: {accuracy_score(Y_train.values.ravel(), y_train_pred_dummy):.3f}\")\n",
    "print(\"\\nDummy Confusion Matrix:\")\n",
    "\n",
    "# Use seaborn to plot heatmap\n",
    "sns.heatmap(cm_dummy, annot= True, fmt = 'd', cmap = 'GnBu',\n",
    "               xticklabels = ['Survived', 'Died'],\n",
    "               yticklabels = ['Survived', 'Died'])\n",
    "plt.title('Confusion Matrix for Tree Survival \\n1 Year after Wildfire')\n",
    "plt.ylabel('True Status')\n",
    "plt.xlabel('Predicted Status')\n",
    "plt.show()\n",
    "\n",
    "\n",
    "# Calculate metrics\n",
    "TP_d = cm_dummy[0,0]\n",
    "TN_d = cm_dummy[1,1]\n",
    "FP_d = cm_dummy[1,0]\n",
    "FN_d = cm_dummy[0,1]\n",
    "\n",
    "print(f\"True positives (correctly predicted survival): {TP_d}\")\n",
    "print(f\"True negatives (correctly predicted death): {TN_d}\")\n",
    "print(f\"False positives (incorrectly predicted survival): {FP_d}\")\n",
    "print(f\"False negatives (incorrectly predicted death): {FN_d}\")"
   ]
  },
  {
   "cell_type": "markdown",
   "id": "e3445d23",
   "metadata": {},
   "source": [
    "# Step 8: ROCs and AUCs\n",
    "Our two models have similar accuracy, but is that all there is to this story?  Let's dig a little deeper on the comparison of our logistic and dummy classifiers by examining the associated receiver-operator characteristic (ROC) curves. Calculate the area under the curve (AUC) for both models."
   ]
  },
  {
   "cell_type": "code",
   "execution_count": 10,
   "id": "cef8515b",
   "metadata": {
    "tags": []
   },
   "outputs": [
    {
     "name": "stdout",
     "output_type": "stream",
     "text": [
      "Logistic AUC: 0.918\n"
     ]
    }
   ],
   "source": [
    "# Logistic classifier AUC\n",
    "\n",
    "# Get predicted probabilities for logistic regression on test set\n",
    "y_test_prob_logistic = model.predict_proba(X_test_scaled)[:, 1]\n",
    "fpr_logistic, tpr_logistic, _ = roc_curve(Y_test.values.ravel(), y_test_prob_logistic)\n",
    "\n",
    "# Compute AUC for logistic regression on test set\n",
    "auc_logistic = roc_auc_score(Y_test.values.ravel(), y_test_prob_logistic)\n",
    "\n",
    "print(f\"Logistic AUC: {auc_logistic:.3f}\")"
   ]
  },
  {
   "cell_type": "code",
   "execution_count": 11,
   "id": "5180e8b8",
   "metadata": {
    "tags": []
   },
   "outputs": [
    {
     "name": "stdout",
     "output_type": "stream",
     "text": [
      "Dummy AUC: 0.5 \n"
     ]
    }
   ],
   "source": [
    "# Get predicted probabilities for the dummy model on the test set\n",
    "y_test_prob_dummy = dummy_model.predict_proba(X_test_scaled)[:, 1]\n",
    "fpr_dummy, tpr_dummy, _ = roc_curve(Y_test.values.ravel(), y_test_prob_dummy)\n",
    "\n",
    "# Compute AUC for dummy model on test set\n",
    "auc_dummy = roc_auc_score(Y_test.values.ravel(), y_test_prob_dummy)\n",
    "\n",
    "print(f\"Dummy AUC: {auc_dummy} \")"
   ]
  },
  {
   "cell_type": "markdown",
   "id": "4acd252f",
   "metadata": {},
   "source": [
    "# Step 9: Plot dummy and logistic model ROC curves\n",
    "Now using the outputs from `roc_curve()`, plot the ROC curves for both models on the same plot.  Make sure to use appropriate labels in the legend."
   ]
  },
  {
   "cell_type": "code",
   "execution_count": 12,
   "id": "03a7fe29",
   "metadata": {
    "tags": []
   },
   "outputs": [
    {
     "data": {
      "image/png": "[encoded data removed]",
      "text/plain": [
       "<Figure size 800x600 with 1 Axes>"
      ]
     },
     "metadata": {},
     "output_type": "display_data"
    }
   ],
   "source": [
    "# ROC curve for logistic and dummy classifier\n",
    "\n",
    "# Initialize plot\n",
    "plt.figure(figsize = (8,6))\n",
    "\n",
    "# Plot heatmaps for both classifiers\n",
    "plt.plot(fpr_logistic, tpr_logistic, color=\"#C4A9C2\", label=f\"Logistic Regression (AUC = {auc_logistic:.2f})\")\n",
    "plt.plot(fpr_dummy, tpr_dummy, color=\"#D8C397\", linestyle=\"--\", label=f\"Dummy Classifier (AUC = {auc_dummy:.2f})\")\n",
    "\n",
    "# Labels\n",
    "plt.xlabel(\"False Positive Rate (FPR)\")\n",
    "plt.ylabel(\"True Positive Rate (TPR)\")\n",
    "plt.title(\"ROC Curve Comparison: Logistic vs. Dummy Classifier\")\n",
    "plt.legend(loc=\"lower right\")\n",
    "\n",
    "# Show the plot\n",
    "plt.show()"
   ]
  },
  {
   "cell_type": "markdown",
   "id": "ec104e80",
   "metadata": {},
   "source": [
    "How do the two models compare on AUC?  What are the implications for evaluating classifiers based on accuracy of their predictions?"
   ]
  },
  {
   "cell_type": "markdown",
   "id": "a4ab1a30",
   "metadata": {},
   "source": [
    "*Your answer here*"
   ]
  },
  {
   "cell_type": "markdown",
   "id": "d1767d77",
   "metadata": {},
   "source": [
    "# Step 10: Final interpretation\n",
    "\n",
    "Identifying the most important features in a model can guide decision-making. For instance, in our dataset, highly important features might indicate key factors affecting tree survival after a fire. We will calculate the feature importance by examining the coefficients of our logistic regression model."
   ]
  },
  {
   "cell_type": "code",
   "execution_count": 41,
   "id": "e0a97e03",
   "metadata": {
    "tags": []
   },
   "outputs": [
    {
     "name": "stdout",
     "output_type": "stream",
     "text": [
      "         Feature  Coefficient  Abs_Coef\n",
      "7        cr_post    -2.494974  2.494974\n",
      "5           ht_m    -1.165414  1.165414\n",
      "0     yrfirename    -0.660497  0.660497\n",
      "2        species     0.541509  0.541509\n",
      "4         dbh_cm     0.421324  0.421324\n",
      "6         cr_pre     0.123414  0.123414\n",
      "3  genus_species    -0.067867  0.067867\n",
      "1   times_burned     0.000000  0.000000\n"
     ]
    }
   ],
   "source": [
    "# Create df of features and coefficients\n",
    "\n",
    "# Define feature names and coefficients\n",
    "feature_names = X.columns.tolist()\n",
    "coefficients = model.coef_[0]\n",
    "\n",
    "# Place into df\n",
    "feature_importance = pd.DataFrame({\n",
    "    'Feature': feature_names,\n",
    "    'Coefficient': coefficients})\n",
    "\n",
    "# Sort by abs val for coef\n",
    "feature_importance['Abs_Coef'] = abs(feature_importance['Coefficient'])\n",
    "\n",
    "# Assign sorted feature importance\n",
    "importance_df = feature_importance.sort_values('Abs_Coef', ascending=False)\n",
    "\n",
    "# Print the sorted feature importance\n",
    "print(importance_df)"
   ]
  },
  {
   "cell_type": "markdown",
   "id": "55d9db5d",
   "metadata": {},
   "source": [
    "Which are the most important features in our model (reference the metadata to help answer this)? Can you think of any implications for forest management or conservation strategy?"
   ]
  },
  {
   "cell_type": "markdown",
   "id": "bd42e56c",
   "metadata": {},
   "source": [
    "In this model, the most important features were the post-fire live crown ratio then the pre-fire tree height (m)."
   ]
  }
 ],
 "metadata": {
  "kernelspec": {
   "display_name": "Anaconda 3 (EDS232)",
   "language": "python",
   "name": "ml-env"
  },
  "language_info": {
   "codemirror_mode": {
    "name": "ipython",
    "version": 3
   },
   "file_extension": ".py",
   "mimetype": "text/x-python",
   "name": "python",
   "nbconvert_exporter": "python",
   "pygments_lexer": "ipython3",
   "version": "3.10.16"
  }
 },
 "nbformat": 4,
 "nbformat_minor": 5
}
