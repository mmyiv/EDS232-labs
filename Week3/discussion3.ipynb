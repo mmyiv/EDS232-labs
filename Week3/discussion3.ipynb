{
 "cells": [
  {
   "cell_type": "markdown",
   "id": "433de66c-e733-4255-b529-ade90b92a208",
   "metadata": {},
   "source": [
    "## Discussion 3\n",
    "\n",
    "Michelle Yiv\n",
    "\n",
    "[link to discussion](https://maro406.github.io/eds-232-machine-learning/discussion/week3.html)"
   ]
  },
  {
   "cell_type": "code",
   "execution_count": 1,
   "id": "13766b93-4df3-4fc5-ac65-9401365fe1e6",
   "metadata": {
    "tags": []
   },
   "outputs": [],
   "source": [
    "# Import necessary libraries\n",
    "import numpy as np\n",
    "import pandas as pd\n",
    "from sklearn.model_selection import train_test_split\n",
    "from sklearn.linear_model import LogisticRegression\n",
    "from sklearn.metrics import roc_curve, auc, confusion_matrix\n",
    "import matplotlib.pyplot as plt\n",
    "from ipywidgets import interact, FloatSlider\n",
    "import seaborn as sns"
   ]
  },
  {
   "cell_type": "markdown",
   "id": "286c928e-54ed-438d-b570-b91f5d6cea38",
   "metadata": {},
   "source": [
    "## Function 1\n",
    "\n",
    "Create a function that generates the species data. The parameters should be the sample size and the ratio of present green crabs."
   ]
  },
  {
   "cell_type": "code",
   "execution_count": 2,
   "id": "50721978-c7e0-4c26-a91f-6a697f0cd07a",
   "metadata": {
    "tags": []
   },
   "outputs": [],
   "source": [
    "def generate_species_data(n_samples=1000, presence_ratio=0.3):\n",
    "    # Calculate number of samples for each class\n",
    "    n_present = int(n_samples * presence_ratio)\n",
    "    n_absent = n_samples - n_present\n",
    "    \n",
    "    # Generate features for presence sites \n",
    "    # Green crabs prefer warmer temps (between 64 and 79 degrees Fahrenheit) and  salinity between 26 and 39 ppt\n",
    "    temp_present = np.random.normal(loc=71, scale= 4, size=n_present)\n",
    "    salinity_present = np.random.normal(loc=32, scale=3, size=n_present)\n",
    "    X_present = np.column_stack([temp_present, salinity_present])\n",
    "    y_present = np.ones(n_present)\n",
    "    \n",
    "    # Generate features for absence sites\n",
    "    # Sites with warmer temps or lower salinity\n",
    "    temp_absent = np.random.normal(loc=26, scale=3, size=n_absent)\n",
    "    salinity_absent = np.random.normal(loc=28, scale=2, size=n_absent)\n",
    "    X_absent = np.column_stack([temp_absent, salinity_absent])\n",
    "    y_absent = np.zeros(n_absent)\n",
    "    \n",
    "    # Combine and shuffle the data\n",
    "    X = np.concatenate([X_present, X_absent])\n",
    "    y = np.concatenate([y_present, y_absent])\n",
    "    \n",
    "    # Shuffle the data\n",
    "    shuffle_idx = np.random.permutation(n_samples)\n",
    "    X = X[shuffle_idx]\n",
    "    y = y[shuffle_idx]\n",
    "    \n",
    "    return X, y"
   ]
  },
  {
   "cell_type": "markdown",
   "id": "77814602-9a1c-4935-8dd1-dae480a63fce",
   "metadata": {},
   "source": [
    "## Function 2\n",
    "\n",
    "Create a function that creats a bar plot of species presense distribution based on the ratio selected by the user."
   ]
  },
  {
   "cell_type": "code",
   "execution_count": 3,
   "id": "45217fe3-45e1-427b-8b48-f5329dd6952b",
   "metadata": {
    "tags": []
   },
   "outputs": [],
   "source": [
    "def plot_class_distribution(y):\n",
    "    \n",
    "    plt.figure(figsize=(8,4))\n",
    "    \n",
    "    # Count values in each category\n",
    "    class_counts = pd.Series(y).value_counts().sort_index()\n",
    "    \n",
    "    # Create a bar plot of absent and present species\n",
    "    sns.barplot(x = ['Absent', 'Present'], y = class_counts, color = '#005477')\n",
    "    plt.title('Dist of species Present/Absent')\n",
    "    plt.ylabel('Number of sampling sites')\n",
    "    \n",
    "    # Add percentages over each bar\n",
    "    total = len(y)\n",
    "    for bar, count in enumerate(class_counts):\n",
    "        percentage = count/total * 100\n",
    "        plt.text(bar, count, f'{percentage:.1f}%', ha = 'center', va = 'bottom')\n",
    "    \n",
    "    plt.show()"
   ]
  },
  {
   "cell_type": "markdown",
   "id": "4e543fd7-2971-43e6-83ce-119d8ae32687",
   "metadata": {},
   "source": [
    "## Function 3\n",
    "Create a function that plots a confusion matrix of the predicted y values and true y values."
   ]
  },
  {
   "cell_type": "code",
   "execution_count": 4,
   "id": "55b6a21b-cca1-4d48-ad35-7b0ae536d277",
   "metadata": {
    "tags": []
   },
   "outputs": [],
   "source": [
    "def plot_confusion_matrix(y_true, y_pred):\n",
    "    \n",
    "    # Create confusion matrix\n",
    "    cm = confusion_matrix(y_true, y_pred)\n",
    "    \n",
    "    # Create confusion matrix plot\n",
    "    plt.figure(figsize= (8,6))\n",
    "    sns.heatmap(cm, annot= True, fmt = 'd', cmap = 'GnBu',\n",
    "               xticklabels = ['Absent', 'Present'],\n",
    "               yticklabels = ['Absent', 'Present'])\n",
    "    plt.title('Confusion Matrix')\n",
    "    plt.ylabel('True label')\n",
    "    plt.xlabel('Predicted label')\n",
    "    plt.show()\n",
    "    \n",
    "    # Calculate metrix\n",
    "    TP = cm[1,1]\n",
    "    TN = cm[0,0]\n",
    "    FP = cm[0,1]\n",
    "    FN = cm[1,0]\n",
    "    \n",
    "    print(f\"\\nMetrics from Confusion matrix\")\n",
    "    print(f\"True positives (correctly predicted presence: {TP}\")\n",
    "    print(f\"True negatives (correctly predicted absence: {TN}\")\n",
    "    print(f\"False positives (incorrectly predicted presence: {FP}\")\n",
    "    print(f\"False negatives (incorrectly predicted absence: {FN}\")\n",
    "    \n",
    "    # Calculate accuracy\n",
    "    accuracy = (TP+TN) / (TP+TN+FP+FN) # Correctly predicted values over everything\n",
    "    majority_baseline = max(np.mean(y_true), 1-np.mean(y_true))\n",
    "    sensitivity = TP / (TP + FN)\n",
    "    specificity = TN / (TN + FP)\n",
    "    \n",
    "    # Print metrics\n",
    "    print(f\"\\nModel Performance Metrics:\")\n",
    "    print(f\"Accuracy: {accuracy:.3f}\")\n",
    "    print(f\"Sensitivity (True positive rate): {sensitivity:.3f}\")\n",
    "    print(f\"Specificity (True negative rate): {specificity:.3f}\")\n",
    "    "
   ]
  },
  {
   "cell_type": "markdown",
   "id": "3808196e-bc91-4e4a-a96a-c175ae3d25ec",
   "metadata": {},
   "source": [
    "## Function 4\n",
    "Create a function that plots an ROC curve using the predicted y class probabilities and true y values."
   ]
  },
  {
   "cell_type": "code",
   "execution_count": 5,
   "id": "09bb3761-87ce-4e2f-abfe-ecb0dea45e5a",
   "metadata": {
    "tags": []
   },
   "outputs": [],
   "source": [
    "def plot_roc_curve(y_test, y_pred_prob): # takes probabilities\n",
    "    fpr, tpr, _ = roc_curve(y_test, y_pred_prob) # _ = ignore thresholds \n",
    "    roc_auc = auc(fpr, tpr)\n",
    "    \n",
    "    # Plot\n",
    "    plt.figure(figsize=(8,6))\n",
    "    plt.plot(fpr, tpr, color = 'darkorange', lw =2,\n",
    "            label = f'ROC Curve (AUC = {roc_auc:.2f})')\n",
    "    plt.plot([0,1], [0,1], color = 'navy', lw = 2, linestyle = '--', label = 'Random Classifier (AUC = 0.5)')\n",
    "    plt.xlabel('False positive rate')\n",
    "    plt.ylabel('True positive rate') \n",
    "    plt.title('ROC Curve: Species presence prediction')\n",
    "    plt.legend()\n",
    "    plt.grid(True)\n",
    "    plt.show()\n",
    "    "
   ]
  },
  {
   "cell_type": "markdown",
   "id": "a7a7c64b-ebcf-454f-a514-b53a3cb2bef4",
   "metadata": {},
   "source": [
    "## Function 5\n",
    "Create function that runs a logistic regression and outputs the three plots you created above."
   ]
  },
  {
   "cell_type": "code",
   "execution_count": 6,
   "id": "dc078d04-87e6-441b-bc42-1b4102801876",
   "metadata": {
    "tags": []
   },
   "outputs": [],
   "source": [
    "def interactive_logistic_regression(presence_ratio = 0.3):\n",
    "    X, y = generate_species_data(presence_ratio=presence_ratio)\n",
    "    \n",
    "    # Plot class distribution\n",
    "    print(\"\\n Class Distribution\")\n",
    "    plot_class_distribution(y)\n",
    "    \n",
    "    # Split the data\n",
    "    X_train, X_test, y_train, y_test = train_test_split(X, y, test_size=0.3, random_state=42)\n",
    "    \n",
    "    # Train the model\n",
    "    model = LogisticRegression()\n",
    "    model.fit(X_train, y_train)\n",
    "    \n",
    "    # Make predictions\n",
    "    y_pred = model.predict(X_test)\n",
    "    y_pred_prob = model.predict_proba(X_test)[:, 1] # All rows, first column\n",
    "    \n",
    "    # Plot confusion matrix\n",
    "    print(\"\\nConfusion Matrix\")\n",
    "    plot_confusion_matrix(y_test, y_pred)\n",
    "    \n",
    "    # Plot ROC curve\n",
    "    print(\"\\nROC Curve\")\n",
    "    plot_roc_curve(y_test, y_pred_prob) "
   ]
  },
  {
   "cell_type": "markdown",
   "id": "17e3c16c-e9bd-4e10-aaba-a9117ac06066",
   "metadata": {},
   "source": [
    "## Function 6\n",
    "Create a function that adds interactivity to function 5."
   ]
  },
  {
   "cell_type": "code",
   "execution_count": 7,
   "id": "a6e65945-45a4-44f5-9698-e6e970d765e9",
   "metadata": {
    "tags": []
   },
   "outputs": [
    {
     "data": {
      "application/vnd.jupyter.widget-view+json": {
       "model_id": "0827f0439da84f72aa92a48cdf875de7",
       "version_major": 2,
       "version_minor": 0
      },
      "text/plain": [
       "interactive(children=(FloatSlider(value=0.3, description='% Present', max=0.9, min=0.1), Output()), _dom_class…"
      ]
     },
     "metadata": {},
     "output_type": "display_data"
    }
   ],
   "source": [
    "# Create interactive widget\n",
    "def generate_log_regression():\n",
    "    interact(interactive_logistic_regression,\n",
    "            presence_ratio = FloatSlider(min = 0.1, max = 0.9, step = .1, value = 0.3, description = \"% Present\"))\n",
    "    \n",
    "generate_log_regression()"
   ]
  }
 ],
 "metadata": {
  "kernelspec": {
   "display_name": "Anaconda 3 (EDS232)",
   "language": "python",
   "name": "ml-env"
  },
  "language_info": {
   "codemirror_mode": {
    "name": "ipython",
    "version": 3
   },
   "file_extension": ".py",
   "mimetype": "text/x-python",
   "name": "python",
   "nbconvert_exporter": "python",
   "pygments_lexer": "ipython3",
   "version": "3.10.16"
  }
 },
 "nbformat": 4,
 "nbformat_minor": 5
}
